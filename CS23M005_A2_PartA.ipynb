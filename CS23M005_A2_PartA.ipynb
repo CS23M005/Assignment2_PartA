{
  "nbformat": 4,
  "nbformat_minor": 0,
  "metadata": {
    "colab": {
      "provenance": [],
      "gpuType": "T4",
      "authorship_tag": "ABX9TyOFPkciUDVTnBzBegtDGL6o",
      "include_colab_link": true
    },
    "kernelspec": {
      "name": "python3",
      "display_name": "Python 3"
    },
    "language_info": {
      "name": "python"
    },
    "accelerator": "GPU",
    "widgets": {
      "application/vnd.jupyter.widget-state+json": {
        "54a7653781af4fe3ad585b9eb892520d": {
          "model_module": "@jupyter-widgets/controls",
          "model_name": "VBoxModel",
          "model_module_version": "1.5.0",
          "state": {
            "_dom_classes": [],
            "_model_module": "@jupyter-widgets/controls",
            "_model_module_version": "1.5.0",
            "_model_name": "VBoxModel",
            "_view_count": null,
            "_view_module": "@jupyter-widgets/controls",
            "_view_module_version": "1.5.0",
            "_view_name": "VBoxView",
            "box_style": "",
            "children": [
              "IPY_MODEL_2bfedb7a1075401895a561c17d6a39f2",
              "IPY_MODEL_c2f265a64b4a40919e3384dd37c54888"
            ],
            "layout": "IPY_MODEL_82bffe13a0274033a32b1af7adcb0090"
          }
        },
        "2bfedb7a1075401895a561c17d6a39f2": {
          "model_module": "@jupyter-widgets/controls",
          "model_name": "LabelModel",
          "model_module_version": "1.5.0",
          "state": {
            "_dom_classes": [],
            "_model_module": "@jupyter-widgets/controls",
            "_model_module_version": "1.5.0",
            "_model_name": "LabelModel",
            "_view_count": null,
            "_view_module": "@jupyter-widgets/controls",
            "_view_module_version": "1.5.0",
            "_view_name": "LabelView",
            "description": "",
            "description_tooltip": null,
            "layout": "IPY_MODEL_4794ed60e880407b8bd3a6f02e7b7ef5",
            "placeholder": "​",
            "style": "IPY_MODEL_ede6ea7835d14d719584d5cc7318a96c",
            "value": "0.011 MB of 0.011 MB uploaded\r"
          }
        },
        "c2f265a64b4a40919e3384dd37c54888": {
          "model_module": "@jupyter-widgets/controls",
          "model_name": "FloatProgressModel",
          "model_module_version": "1.5.0",
          "state": {
            "_dom_classes": [],
            "_model_module": "@jupyter-widgets/controls",
            "_model_module_version": "1.5.0",
            "_model_name": "FloatProgressModel",
            "_view_count": null,
            "_view_module": "@jupyter-widgets/controls",
            "_view_module_version": "1.5.0",
            "_view_name": "ProgressView",
            "bar_style": "",
            "description": "",
            "description_tooltip": null,
            "layout": "IPY_MODEL_bece6fdbb12f43239157751646dcedbd",
            "max": 1,
            "min": 0,
            "orientation": "horizontal",
            "style": "IPY_MODEL_7105863a6ef645d2b8534247de00e694",
            "value": 1
          }
        },
        "82bffe13a0274033a32b1af7adcb0090": {
          "model_module": "@jupyter-widgets/base",
          "model_name": "LayoutModel",
          "model_module_version": "1.2.0",
          "state": {
            "_model_module": "@jupyter-widgets/base",
            "_model_module_version": "1.2.0",
            "_model_name": "LayoutModel",
            "_view_count": null,
            "_view_module": "@jupyter-widgets/base",
            "_view_module_version": "1.2.0",
            "_view_name": "LayoutView",
            "align_content": null,
            "align_items": null,
            "align_self": null,
            "border": null,
            "bottom": null,
            "display": null,
            "flex": null,
            "flex_flow": null,
            "grid_area": null,
            "grid_auto_columns": null,
            "grid_auto_flow": null,
            "grid_auto_rows": null,
            "grid_column": null,
            "grid_gap": null,
            "grid_row": null,
            "grid_template_areas": null,
            "grid_template_columns": null,
            "grid_template_rows": null,
            "height": null,
            "justify_content": null,
            "justify_items": null,
            "left": null,
            "margin": null,
            "max_height": null,
            "max_width": null,
            "min_height": null,
            "min_width": null,
            "object_fit": null,
            "object_position": null,
            "order": null,
            "overflow": null,
            "overflow_x": null,
            "overflow_y": null,
            "padding": null,
            "right": null,
            "top": null,
            "visibility": null,
            "width": null
          }
        },
        "4794ed60e880407b8bd3a6f02e7b7ef5": {
          "model_module": "@jupyter-widgets/base",
          "model_name": "LayoutModel",
          "model_module_version": "1.2.0",
          "state": {
            "_model_module": "@jupyter-widgets/base",
            "_model_module_version": "1.2.0",
            "_model_name": "LayoutModel",
            "_view_count": null,
            "_view_module": "@jupyter-widgets/base",
            "_view_module_version": "1.2.0",
            "_view_name": "LayoutView",
            "align_content": null,
            "align_items": null,
            "align_self": null,
            "border": null,
            "bottom": null,
            "display": null,
            "flex": null,
            "flex_flow": null,
            "grid_area": null,
            "grid_auto_columns": null,
            "grid_auto_flow": null,
            "grid_auto_rows": null,
            "grid_column": null,
            "grid_gap": null,
            "grid_row": null,
            "grid_template_areas": null,
            "grid_template_columns": null,
            "grid_template_rows": null,
            "height": null,
            "justify_content": null,
            "justify_items": null,
            "left": null,
            "margin": null,
            "max_height": null,
            "max_width": null,
            "min_height": null,
            "min_width": null,
            "object_fit": null,
            "object_position": null,
            "order": null,
            "overflow": null,
            "overflow_x": null,
            "overflow_y": null,
            "padding": null,
            "right": null,
            "top": null,
            "visibility": null,
            "width": null
          }
        },
        "ede6ea7835d14d719584d5cc7318a96c": {
          "model_module": "@jupyter-widgets/controls",
          "model_name": "DescriptionStyleModel",
          "model_module_version": "1.5.0",
          "state": {
            "_model_module": "@jupyter-widgets/controls",
            "_model_module_version": "1.5.0",
            "_model_name": "DescriptionStyleModel",
            "_view_count": null,
            "_view_module": "@jupyter-widgets/base",
            "_view_module_version": "1.2.0",
            "_view_name": "StyleView",
            "description_width": ""
          }
        },
        "bece6fdbb12f43239157751646dcedbd": {
          "model_module": "@jupyter-widgets/base",
          "model_name": "LayoutModel",
          "model_module_version": "1.2.0",
          "state": {
            "_model_module": "@jupyter-widgets/base",
            "_model_module_version": "1.2.0",
            "_model_name": "LayoutModel",
            "_view_count": null,
            "_view_module": "@jupyter-widgets/base",
            "_view_module_version": "1.2.0",
            "_view_name": "LayoutView",
            "align_content": null,
            "align_items": null,
            "align_self": null,
            "border": null,
            "bottom": null,
            "display": null,
            "flex": null,
            "flex_flow": null,
            "grid_area": null,
            "grid_auto_columns": null,
            "grid_auto_flow": null,
            "grid_auto_rows": null,
            "grid_column": null,
            "grid_gap": null,
            "grid_row": null,
            "grid_template_areas": null,
            "grid_template_columns": null,
            "grid_template_rows": null,
            "height": null,
            "justify_content": null,
            "justify_items": null,
            "left": null,
            "margin": null,
            "max_height": null,
            "max_width": null,
            "min_height": null,
            "min_width": null,
            "object_fit": null,
            "object_position": null,
            "order": null,
            "overflow": null,
            "overflow_x": null,
            "overflow_y": null,
            "padding": null,
            "right": null,
            "top": null,
            "visibility": null,
            "width": null
          }
        },
        "7105863a6ef645d2b8534247de00e694": {
          "model_module": "@jupyter-widgets/controls",
          "model_name": "ProgressStyleModel",
          "model_module_version": "1.5.0",
          "state": {
            "_model_module": "@jupyter-widgets/controls",
            "_model_module_version": "1.5.0",
            "_model_name": "ProgressStyleModel",
            "_view_count": null,
            "_view_module": "@jupyter-widgets/base",
            "_view_module_version": "1.2.0",
            "_view_name": "StyleView",
            "bar_color": null,
            "description_width": ""
          }
        }
      }
    }
  },
  "cells": [
    {
      "cell_type": "markdown",
      "metadata": {
        "id": "view-in-github",
        "colab_type": "text"
      },
      "source": [
        "<a href=\"https://colab.research.google.com/github/CS23M005/Assignment2_PartA/blob/main/CS23M005_A2_PartA.ipynb\" target=\"_parent\"><img src=\"https://colab.research.google.com/assets/colab-badge.svg\" alt=\"Open In Colab\"/></a>"
      ]
    },
    {
      "cell_type": "code",
      "source": [
        "import torch\n",
        "import torch.nn as nn\n",
        "import torch.nn.functional as F\n",
        "import torchvision\n",
        "import torchvision.transforms as transforms\n",
        "import matplotlib.pyplot as plt\n",
        "import numpy as np\n",
        "import math\n",
        "\n",
        "device = torch.device('cuda' if torch.cuda.is_available() else 'cpu')"
      ],
      "metadata": {
        "id": "EelbKOQZna8h"
      },
      "execution_count": 1,
      "outputs": []
    },
    {
      "cell_type": "code",
      "source": [
        "device"
      ],
      "metadata": {
        "colab": {
          "base_uri": "https://localhost:8080/"
        },
        "id": "JTx13mkhacMR",
        "outputId": "935b5e7e-d6bd-4cd5-c51f-ec4cfe325762"
      },
      "execution_count": 13,
      "outputs": [
        {
          "output_type": "execute_result",
          "data": {
            "text/plain": [
              "device(type='cuda')"
            ]
          },
          "metadata": {},
          "execution_count": 13
        }
      ]
    },
    {
      "cell_type": "code",
      "source": [
        "!wget https://storage.googleapis.com/wandb_datasets/nature_12K.zip -O nature_12K.zip\n",
        "!unzip -q nature_12K.zip"
      ],
      "metadata": {
        "colab": {
          "base_uri": "https://localhost:8080/"
        },
        "id": "Egc4oQ-l-WVF",
        "outputId": "2be0a6f4-974d-4b8a-c1a5-c2c0b24e6073"
      },
      "execution_count": 3,
      "outputs": [
        {
          "output_type": "stream",
          "name": "stdout",
          "text": [
            "--2024-04-03 18:10:30--  https://storage.googleapis.com/wandb_datasets/nature_12K.zip\n",
            "Resolving storage.googleapis.com (storage.googleapis.com)... 142.251.162.207, 74.125.134.207, 74.125.139.207, ...\n",
            "Connecting to storage.googleapis.com (storage.googleapis.com)|142.251.162.207|:443... connected.\n",
            "HTTP request sent, awaiting response... 200 OK\n",
            "Length: 3816687935 (3.6G) [application/zip]\n",
            "Saving to: ‘nature_12K.zip’\n",
            "\n",
            "nature_12K.zip      100%[===================>]   3.55G   120MB/s    in 28s     \n",
            "\n",
            "2024-04-03 18:10:58 (129 MB/s) - ‘nature_12K.zip’ saved [3816687935/3816687935]\n",
            "\n"
          ]
        }
      ]
    },
    {
      "cell_type": "code",
      "source": [
        "!rm nature_12K.zip"
      ],
      "metadata": {
        "id": "ZMvyUFo_-lUi"
      },
      "execution_count": 4,
      "outputs": []
    },
    {
      "cell_type": "code",
      "source": [
        "from torchvision.datasets import ImageFolder\n",
        "import torchvision.transforms as transforms\n",
        "from torch.utils.data import Subset, DataLoader\n",
        "import torchvision\n",
        "from torch import optim\n",
        "from tqdm import tqdm\n",
        "from torch.utils.data import DataLoader\n",
        "from torchvision import datasets\n",
        "\n",
        "transform = transforms.Compose([\n",
        "    transforms.Resize((256,256)),\n",
        "    transforms.ToTensor(),\n",
        "    transforms.Normalize((0.5,),(0.5,))\n",
        "])\n",
        "\n",
        "train_dataset = datasets.ImageFolder(root='inaturalist_12K/train',transform=transform)\n",
        "train_dataset,val_dataset = torch.utils.data.random_split(train_dataset,[7999,2000])\n",
        "\n",
        "train_loader = torch.utils.data.DataLoader(train_dataset,\n",
        "    batch_size =32,shuffle = True,num_workers=2,pin_memory=True)\n",
        "\n",
        "test_data = torch.utils.data.DataLoader(\n",
        "    datasets.ImageFolder(root='inaturalist_12K/val',transform=transform),batch_size = 32,shuffle = True,num_workers=2,pin_memory=True\n",
        ")"
      ],
      "metadata": {
        "id": "5XKRsVXs9zd2"
      },
      "execution_count": 5,
      "outputs": []
    },
    {
      "cell_type": "code",
      "source": [
        "class ConvNet(nn.Module):\n",
        "    def __init__(self, input_channel, output_size, num_filters, filter_size, activation_fun, filter_config, stride, neurons):\n",
        "        super(ConvNet,self).__init__()\n",
        "        self.k = filter_size\n",
        "        m = self.getM()\n",
        "        self.s = stride\n",
        "        w, h = 256,256\n",
        "\n",
        "        self.conv1 = nn.Conv2d(input_channel, m[0], self.k, self.s)\n",
        "        w,h = self.getWH(w,h)\n",
        "        self.pool1 = nn.MaxPool2d(self.k,self.s)\n",
        "        w,h = self.getWH(w,h)\n",
        "        self.conv2 = nn.Conv2d(m[0], m[1], self.k, self.s)\n",
        "        w,h = self.getWH(w,h)\n",
        "        self.pool2 = nn.MaxPool2d(self.k, self.s)\n",
        "        w,h = self.getWH(w,h)\n",
        "        self.conv3 = nn.Conv2d(m[1], m[2], self.k, self.s)\n",
        "        w,h = self.getWH(w,h)\n",
        "        self.pool3 = nn.MaxPool2d(self.k, self.s)\n",
        "        w,h = self.getWH(w,h)\n",
        "        self.conv4 = nn.Conv2d(m[2], m[3], self.k, self.s)\n",
        "        w,h = self.getWH(w,h)\n",
        "        self.pool4 = nn.MaxPool2d(self.k, self.s)\n",
        "        w,h = self.getWH(w,h)\n",
        "        self.conv5 = nn.Conv2d(m[3], m[4], self.k, self.s)\n",
        "        w,h = self.getWH(w,h)\n",
        "        self.pool5 = nn.MaxPool2d(self.k, self.s)\n",
        "        w,h = self.getWH(w,h)\n",
        "        self.fc1 = nn.Linear(m[4]*w*h, neurons)\n",
        "        self.fc2 = nn.Linear(neurons,10)\n",
        "\n",
        "\n",
        "\n",
        "    def getWH(self, w, h):\n",
        "      return (math.floor(((w-self.k)/self.s)+1),math.floor(((w-self.k)/self.s)+1))\n",
        "\n",
        "    def getM(self):\n",
        "        m = []\n",
        "        if(filter_config == \"double\"):\n",
        "          for i in range(1,6):\n",
        "            m.append((int)(2**(i)*num_filters))\n",
        "        elif(filter_config == \"same\"):\n",
        "          for i in range(1,6):\n",
        "            m.append(int(num_filters))\n",
        "        elif(filter_config == \"half\"):\n",
        "          for i in range(1,6):\n",
        "            m.append((int)(num_filters/(2**(i))))\n",
        "        return m\n",
        "\n",
        "    def getActivation_fn(self):\n",
        "        if(activation_fun == \"relu\"):\n",
        "            activation_fn = F.relu\n",
        "        elif(activation_fun == \"gelu\"):\n",
        "            activation_fn = F.gelu\n",
        "        elif(activation_fun == \"silu\"):\n",
        "            activation_fn = F.silu\n",
        "        elif(activation_fun==\"mish\"):\n",
        "            activation_fn = F.mish\n",
        "        return activation_fn\n",
        "\n",
        "    def forward(self, x):\n",
        "        activation_fn = self.getActivation_fn()\n",
        "        x = activation_fn(self.conv1(x))\n",
        "        x = self.pool1(x)\n",
        "        x = activation_fn(self.conv2(x))\n",
        "        x = self.pool2(x)\n",
        "        x = activation_fn(self.conv3(x))\n",
        "        x = self.pool3(x)\n",
        "        x = activation_fn(self.conv4(x))\n",
        "        x = self.pool4(x)\n",
        "        x = activation_fn(self.conv5(x))\n",
        "        x = self.pool5(x)\n",
        "        x = x.reshape(x.shape[0], -1)\n",
        "        x = activation_fn(self.fc1(x))\n",
        "        x = self.fc2(x)\n",
        "        return x\n",
        "\n"
      ],
      "metadata": {
        "id": "B35MKKVdbc_C"
      },
      "execution_count": 6,
      "outputs": []
    },
    {
      "cell_type": "code",
      "source": [
        "def getOptim(model,optim_name, learning_rate):\n",
        "  if(optim_name == 'sgd'):\n",
        "    optimizer = optim.SGD(model.parameters(), lr=learning_rate)\n",
        "  elif(optim_name == 'adam'):\n",
        "    optimizer = optim.Adam(model.parameters(), lr=learning_rate)\n",
        "  else:\n",
        "    optimizer = optim.NAdam(model.parameters(), lr=learning_rate)\n",
        "  return optimizer\n"
      ],
      "metadata": {
        "id": "CBdvYiDtBZYC"
      },
      "execution_count": 7,
      "outputs": []
    },
    {
      "cell_type": "code",
      "source": [
        "def check_accuracy(loader,model,criterion,batchSize):\n",
        "    num_correct = 0\n",
        "    num_loss = 0\n",
        "    total = 0\n",
        "    num_samples = 0\n",
        "    total_loss = 0.0\n",
        "    model.eval()\n",
        "    with torch.no_grad():\n",
        "        for x, y in loader:\n",
        "            x = x.to(device=device)\n",
        "            y = y.to(device=device)\n",
        "            scores = model(x)\n",
        "            loss = criterion(scores, y)\n",
        "            total_loss += loss.item()*batchSize\n",
        "            _, predictions = scores.max(1)\n",
        "            num_correct += (predictions == y).sum().item()\n",
        "            num_samples += predictions.size(0)\n",
        "    model.train()\n",
        "    return (num_correct / num_samples)*100 , total_loss"
      ],
      "metadata": {
        "id": "IVpdYdyTAofx"
      },
      "execution_count": 8,
      "outputs": []
    },
    {
      "cell_type": "code",
      "source": [
        "def train_cnn(input_channel, output_size, num_filters, filter_size, activation_fun, filter_config,\n",
        "              stride, neurons,optim_name,batchSize,dropOut,num_epochs,learning_rate):\n",
        "\n",
        "    transform = transforms.Compose([\n",
        "    transforms.Resize((256,256)),\n",
        "    transforms.ToTensor(),\n",
        "    transforms.Normalize((0.5,),(0.5,))])\n",
        "\n",
        "    train_dataset = datasets.ImageFolder(root='inaturalist_12K/train',transform=transform)\n",
        "\n",
        "    train_dataset,val_dataset = torch.utils.data.random_split(train_dataset,[8000,1999])\n",
        "\n",
        "    train_loader = torch.utils.data.DataLoader(train_dataset,batch_size =batchSize,shuffle = True,num_workers=2,pin_memory=True)\n",
        "    val_loader = torch.utils.data.DataLoader(val_dataset,batch_size =batchSize,shuffle = True,num_workers=2,pin_memory=True)\n",
        "\n",
        "\n",
        "    model = ConvNet(input_channel, output_size, num_filters, filter_size, activation_fun, filter_config, stride, neurons).to(device)\n",
        "    optimizer = getOptim(model,optim_name, learning_rate)\n",
        "    criterion = nn.CrossEntropyLoss()\n",
        "\n",
        "    for epoch in range(num_epochs):\n",
        "        for batch_idx, (data, targets) in enumerate(tqdm(train_loader)):\n",
        "            data = data.to(device=device)\n",
        "            targets = targets.to(device=device)\n",
        "            scores = model(data)\n",
        "            loss = criterion(scores,targets)\n",
        "            optimizer.zero_grad()\n",
        "            loss.backward()\n",
        "            optimizer.step()\n",
        "        train_accuracy,train_loss = check_accuracy(train_loader, model,criterion,batchSize)\n",
        "        validation_accuracy,validation_loss = check_accuracy(val_loader, model,criterion,batchSize)\n",
        "        print(f\"train_accuracy:{train_accuracy:.4f},train_loss:{train_loss:.4f}\")\n",
        "        print(f\"validation_accuracy:{validation_accuracy:.4f},validation_loss:{validation_loss:.4f}\")\n",
        "        wandb.log({'train_accuracy':train_accuracy})\n",
        "        wandb.log({'train_loss':train_loss})\n",
        "        wandb.log({'val_accuracy':validation_accuracy})\n",
        "        wandb.log({'val_loss':validation_loss})\n",
        "\n",
        "    #wandb.log({'train_accuracy':train_accuracy})\n"
      ],
      "metadata": {
        "id": "LjeT_cN8APhF"
      },
      "execution_count": 9,
      "outputs": []
    },
    {
      "cell_type": "code",
      "execution_count": 10,
      "metadata": {
        "id": "l-IJUyJqmP-B",
        "colab": {
          "base_uri": "https://localhost:8080/",
          "height": 677
        },
        "outputId": "22458381-0f17-4c76-f68c-ddca02418b52"
      },
      "outputs": [
        {
          "output_type": "stream",
          "name": "stdout",
          "text": [
            "Collecting wandb\n",
            "  Downloading wandb-0.16.5-py3-none-any.whl (2.2 MB)\n",
            "\u001b[2K     \u001b[90m━━━━━━━━━━━━━━━━━━━━━━━━━━━━━━━━━━━━━━━━\u001b[0m \u001b[32m2.2/2.2 MB\u001b[0m \u001b[31m11.3 MB/s\u001b[0m eta \u001b[36m0:00:00\u001b[0m\n",
            "\u001b[?25hRequirement already satisfied: Click!=8.0.0,>=7.1 in /usr/local/lib/python3.10/dist-packages (from wandb) (8.1.7)\n",
            "Collecting GitPython!=3.1.29,>=1.0.0 (from wandb)\n",
            "  Downloading GitPython-3.1.43-py3-none-any.whl (207 kB)\n",
            "\u001b[2K     \u001b[90m━━━━━━━━━━━━━━━━━━━━━━━━━━━━━━━━━━━━━━━━\u001b[0m \u001b[32m207.3/207.3 kB\u001b[0m \u001b[31m17.3 MB/s\u001b[0m eta \u001b[36m0:00:00\u001b[0m\n",
            "\u001b[?25hRequirement already satisfied: requests<3,>=2.0.0 in /usr/local/lib/python3.10/dist-packages (from wandb) (2.31.0)\n",
            "Requirement already satisfied: psutil>=5.0.0 in /usr/local/lib/python3.10/dist-packages (from wandb) (5.9.5)\n",
            "Collecting sentry-sdk>=1.0.0 (from wandb)\n",
            "  Downloading sentry_sdk-1.44.1-py2.py3-none-any.whl (266 kB)\n",
            "\u001b[2K     \u001b[90m━━━━━━━━━━━━━━━━━━━━━━━━━━━━━━━━━━━━━━━━\u001b[0m \u001b[32m266.1/266.1 kB\u001b[0m \u001b[31m12.1 MB/s\u001b[0m eta \u001b[36m0:00:00\u001b[0m\n",
            "\u001b[?25hCollecting docker-pycreds>=0.4.0 (from wandb)\n",
            "  Downloading docker_pycreds-0.4.0-py2.py3-none-any.whl (9.0 kB)\n",
            "Requirement already satisfied: PyYAML in /usr/local/lib/python3.10/dist-packages (from wandb) (6.0.1)\n",
            "Collecting setproctitle (from wandb)\n",
            "  Downloading setproctitle-1.3.3-cp310-cp310-manylinux_2_5_x86_64.manylinux1_x86_64.manylinux_2_17_x86_64.manylinux2014_x86_64.whl (30 kB)\n",
            "Requirement already satisfied: setuptools in /usr/local/lib/python3.10/dist-packages (from wandb) (67.7.2)\n",
            "Requirement already satisfied: appdirs>=1.4.3 in /usr/local/lib/python3.10/dist-packages (from wandb) (1.4.4)\n",
            "Requirement already satisfied: protobuf!=4.21.0,<5,>=3.19.0 in /usr/local/lib/python3.10/dist-packages (from wandb) (3.20.3)\n",
            "Requirement already satisfied: six>=1.4.0 in /usr/local/lib/python3.10/dist-packages (from docker-pycreds>=0.4.0->wandb) (1.16.0)\n",
            "Collecting gitdb<5,>=4.0.1 (from GitPython!=3.1.29,>=1.0.0->wandb)\n",
            "  Downloading gitdb-4.0.11-py3-none-any.whl (62 kB)\n",
            "\u001b[2K     \u001b[90m━━━━━━━━━━━━━━━━━━━━━━━━━━━━━━━━━━━━━━━━\u001b[0m \u001b[32m62.7/62.7 kB\u001b[0m \u001b[31m9.5 MB/s\u001b[0m eta \u001b[36m0:00:00\u001b[0m\n",
            "\u001b[?25hRequirement already satisfied: charset-normalizer<4,>=2 in /usr/local/lib/python3.10/dist-packages (from requests<3,>=2.0.0->wandb) (3.3.2)\n",
            "Requirement already satisfied: idna<4,>=2.5 in /usr/local/lib/python3.10/dist-packages (from requests<3,>=2.0.0->wandb) (3.6)\n",
            "Requirement already satisfied: urllib3<3,>=1.21.1 in /usr/local/lib/python3.10/dist-packages (from requests<3,>=2.0.0->wandb) (2.0.7)\n",
            "Requirement already satisfied: certifi>=2017.4.17 in /usr/local/lib/python3.10/dist-packages (from requests<3,>=2.0.0->wandb) (2024.2.2)\n",
            "Collecting smmap<6,>=3.0.1 (from gitdb<5,>=4.0.1->GitPython!=3.1.29,>=1.0.0->wandb)\n",
            "  Downloading smmap-5.0.1-py3-none-any.whl (24 kB)\n",
            "Installing collected packages: smmap, setproctitle, sentry-sdk, docker-pycreds, gitdb, GitPython, wandb\n",
            "Successfully installed GitPython-3.1.43 docker-pycreds-0.4.0 gitdb-4.0.11 sentry-sdk-1.44.1 setproctitle-1.3.3 smmap-5.0.1 wandb-0.16.5\n"
          ]
        },
        {
          "output_type": "display_data",
          "data": {
            "text/plain": [
              "<IPython.core.display.Javascript object>"
            ],
            "application/javascript": [
              "\n",
              "        window._wandbApiKey = new Promise((resolve, reject) => {\n",
              "            function loadScript(url) {\n",
              "            return new Promise(function(resolve, reject) {\n",
              "                let newScript = document.createElement(\"script\");\n",
              "                newScript.onerror = reject;\n",
              "                newScript.onload = resolve;\n",
              "                document.body.appendChild(newScript);\n",
              "                newScript.src = url;\n",
              "            });\n",
              "            }\n",
              "            loadScript(\"https://cdn.jsdelivr.net/npm/postmate/build/postmate.min.js\").then(() => {\n",
              "            const iframe = document.createElement('iframe')\n",
              "            iframe.style.cssText = \"width:0;height:0;border:none\"\n",
              "            document.body.appendChild(iframe)\n",
              "            const handshake = new Postmate({\n",
              "                container: iframe,\n",
              "                url: 'https://wandb.ai/authorize'\n",
              "            });\n",
              "            const timeout = setTimeout(() => reject(\"Couldn't auto authenticate\"), 5000)\n",
              "            handshake.then(function(child) {\n",
              "                child.on('authorize', data => {\n",
              "                    clearTimeout(timeout)\n",
              "                    resolve(data)\n",
              "                });\n",
              "            });\n",
              "            })\n",
              "        });\n",
              "    "
            ]
          },
          "metadata": {}
        },
        {
          "output_type": "stream",
          "name": "stderr",
          "text": [
            "\u001b[34m\u001b[1mwandb\u001b[0m: Logging into wandb.ai. (Learn how to deploy a W&B server locally: https://wandb.me/wandb-server)\n",
            "\u001b[34m\u001b[1mwandb\u001b[0m: You can find your API key in your browser here: https://wandb.ai/authorize\n",
            "wandb: Paste an API key from your profile and hit enter, or press ctrl+c to quit:"
          ]
        },
        {
          "name": "stdout",
          "output_type": "stream",
          "text": [
            " ··········\n"
          ]
        },
        {
          "output_type": "stream",
          "name": "stderr",
          "text": [
            "\u001b[34m\u001b[1mwandb\u001b[0m: Appending key for api.wandb.ai to your netrc file: /root/.netrc\n"
          ]
        },
        {
          "output_type": "execute_result",
          "data": {
            "text/plain": [
              "True"
            ]
          },
          "metadata": {},
          "execution_count": 10
        }
      ],
      "source": [
        "!pip install wandb\n",
        "import wandb\n",
        "wandb.login()"
      ]
    },
    {
      "cell_type": "code",
      "source": [
        "optim_name = 'adam'\n",
        "batchSize=32\n",
        "dropOut = 0.1\n",
        "num_epochs = 5\n",
        "learning_rate = 1e-3\n",
        "input_channel=3\n",
        "output_size=10\n",
        "num_filters=16\n",
        "filter_size=3\n",
        "activation_fun = \"relu\"\n",
        "filter_config = \"same\"\n",
        "stride = 1\n"
      ],
      "metadata": {
        "id": "BWKbIukxDJpI"
      },
      "execution_count": 11,
      "outputs": []
    },
    {
      "cell_type": "code",
      "source": [
        "def main_fun():\n",
        "    wandb.init(project ='Assignment2_PartA')\n",
        "    params = wandb.config\n",
        "    with wandb.init(project = 'Assignment2_PartA', name='neurons'+str(params.neurons)+'filterSize'+str(params.filter_size)+'activFun'+params.activation_fun) as run:\n",
        "        train_cnn(input_channel, output_size, params.num_filters, params.filter_size, params.activation_fun, params.filter_config,\n",
        "              stride, params.neurons,params.optim_name, params.batchSize, params.dropOut, params.num_epochs, params.learning_rate)\n",
        "\n",
        "sweep_params = {\n",
        "    'method' : 'bayes',\n",
        "    'name'   : 'cs23m005',\n",
        "    'metric' : {\n",
        "        'goal' : 'maximize',\n",
        "        'name' : 'val_accuracy',\n",
        "    },\n",
        "    'parameters' : {\n",
        "        'neurons':{'values':[64,128,256]},\n",
        "        'num_filters' : {'values' : [16,32]},\n",
        "        'filter_size':{'values' : [3,5,11]},\n",
        "        'activation_fun' :{'values':['relu','gelu','silu','mish']},\n",
        "        'filter_config' : {'values':['same','double','half']},\n",
        "        'optim_name' :{'values':['sgd','adam']},\n",
        "        'batchSize' : {'values':[32,64]},\n",
        "        'dropOut' :{'values':[0.1]},\n",
        "        'num_epochs':{'values':[5,10]},\n",
        "        'learning_rate' :{'values':[1e-3,1e-4]}\n",
        "    }\n",
        "}\n",
        "sweepId = wandb.sweep(sweep_params,project = 'Assignment2_PartA')\n",
        "wandb.agent(sweepId,function =main_fun,count = 20)\n",
        "wandb.finish()"
      ],
      "metadata": {
        "colab": {
          "base_uri": "https://localhost:8080/",
          "height": 625,
          "referenced_widgets": [
            "54a7653781af4fe3ad585b9eb892520d",
            "2bfedb7a1075401895a561c17d6a39f2",
            "c2f265a64b4a40919e3384dd37c54888",
            "82bffe13a0274033a32b1af7adcb0090",
            "4794ed60e880407b8bd3a6f02e7b7ef5",
            "ede6ea7835d14d719584d5cc7318a96c",
            "bece6fdbb12f43239157751646dcedbd",
            "7105863a6ef645d2b8534247de00e694"
          ]
        },
        "id": "30_ocYjqDxPO",
        "outputId": "751b6ea2-690c-4fba-e031-1ef3ac90ae97"
      },
      "execution_count": null,
      "outputs": [
        {
          "output_type": "stream",
          "name": "stdout",
          "text": [
            "Create sweep with ID: dgtgu0yd\n",
            "Sweep URL: https://wandb.ai/cs23m005/Assignment2_partA/sweeps/dgtgu0yd\n"
          ]
        },
        {
          "output_type": "stream",
          "name": "stderr",
          "text": [
            "\u001b[34m\u001b[1mwandb\u001b[0m: Agent Starting Run: 1nbn52i9 with config:\n",
            "\u001b[34m\u001b[1mwandb\u001b[0m: \tactivation_fun: silu\n",
            "\u001b[34m\u001b[1mwandb\u001b[0m: \tbatchSize: 32\n",
            "\u001b[34m\u001b[1mwandb\u001b[0m: \tdropOut: 0.1\n",
            "\u001b[34m\u001b[1mwandb\u001b[0m: \tfilter_config: same\n",
            "\u001b[34m\u001b[1mwandb\u001b[0m: \tfilter_size: 11\n",
            "\u001b[34m\u001b[1mwandb\u001b[0m: \tlearning_rate: 0.0001\n",
            "\u001b[34m\u001b[1mwandb\u001b[0m: \tneurons: 256\n",
            "\u001b[34m\u001b[1mwandb\u001b[0m: \tnum_epochs: 5\n",
            "\u001b[34m\u001b[1mwandb\u001b[0m: \tnum_filters: 16\n",
            "\u001b[34m\u001b[1mwandb\u001b[0m: \toptim_name: adam\n",
            "\u001b[34m\u001b[1mwandb\u001b[0m: \u001b[33mWARNING\u001b[0m Ignored wandb.init() arg project when running a sweep.\n"
          ]
        },
        {
          "output_type": "display_data",
          "data": {
            "text/plain": [
              "<IPython.core.display.HTML object>"
            ],
            "text/html": [
              "Tracking run with wandb version 0.16.5"
            ]
          },
          "metadata": {}
        },
        {
          "output_type": "display_data",
          "data": {
            "text/plain": [
              "<IPython.core.display.HTML object>"
            ],
            "text/html": [
              "Run data is saved locally in <code>/content/wandb/run-20240403_193200-1nbn52i9</code>"
            ]
          },
          "metadata": {}
        },
        {
          "output_type": "display_data",
          "data": {
            "text/plain": [
              "<IPython.core.display.HTML object>"
            ],
            "text/html": [
              "Syncing run <strong><a href='https://wandb.ai/cs23m005/Assignment2_partA/runs/1nbn52i9/workspace' target=\"_blank\">celestial-sweep-1</a></strong> to <a href='https://wandb.ai/cs23m005/Assignment2_partA' target=\"_blank\">Weights & Biases</a> (<a href='https://wandb.me/run' target=\"_blank\">docs</a>)<br/>Sweep page: <a href='https://wandb.ai/cs23m005/Assignment2_partA/sweeps/dgtgu0yd' target=\"_blank\">https://wandb.ai/cs23m005/Assignment2_partA/sweeps/dgtgu0yd</a>"
            ]
          },
          "metadata": {}
        },
        {
          "output_type": "display_data",
          "data": {
            "text/plain": [
              "<IPython.core.display.HTML object>"
            ],
            "text/html": [
              " View project at <a href='https://wandb.ai/cs23m005/Assignment2_partA' target=\"_blank\">https://wandb.ai/cs23m005/Assignment2_partA</a>"
            ]
          },
          "metadata": {}
        },
        {
          "output_type": "display_data",
          "data": {
            "text/plain": [
              "<IPython.core.display.HTML object>"
            ],
            "text/html": [
              " View sweep at <a href='https://wandb.ai/cs23m005/Assignment2_partA/sweeps/dgtgu0yd' target=\"_blank\">https://wandb.ai/cs23m005/Assignment2_partA/sweeps/dgtgu0yd</a>"
            ]
          },
          "metadata": {}
        },
        {
          "output_type": "display_data",
          "data": {
            "text/plain": [
              "<IPython.core.display.HTML object>"
            ],
            "text/html": [
              " View run at <a href='https://wandb.ai/cs23m005/Assignment2_partA/runs/1nbn52i9/workspace' target=\"_blank\">https://wandb.ai/cs23m005/Assignment2_partA/runs/1nbn52i9/workspace</a>"
            ]
          },
          "metadata": {}
        },
        {
          "output_type": "stream",
          "name": "stderr",
          "text": [
            "\u001b[34m\u001b[1mwandb\u001b[0m: \u001b[33mWARNING\u001b[0m Ignored wandb.init() arg project when running a sweep.\n"
          ]
        },
        {
          "output_type": "display_data",
          "data": {
            "text/plain": [
              "<IPython.core.display.HTML object>"
            ],
            "text/html": [
              "Finishing last run (ID:1nbn52i9) before initializing another..."
            ]
          },
          "metadata": {}
        },
        {
          "output_type": "display_data",
          "data": {
            "text/plain": [
              "VBox(children=(Label(value='0.011 MB of 0.011 MB uploaded\\r'), FloatProgress(value=1.0, max=1.0)))"
            ],
            "application/vnd.jupyter.widget-view+json": {
              "version_major": 2,
              "version_minor": 0,
              "model_id": "54a7653781af4fe3ad585b9eb892520d"
            }
          },
          "metadata": {}
        },
        {
          "output_type": "display_data",
          "data": {
            "text/plain": [
              "<IPython.core.display.HTML object>"
            ],
            "text/html": [
              " View run <strong style=\"color:#cdcd00\">celestial-sweep-1</strong> at: <a href='https://wandb.ai/cs23m005/Assignment2_partA/runs/1nbn52i9/workspace' target=\"_blank\">https://wandb.ai/cs23m005/Assignment2_partA/runs/1nbn52i9/workspace</a><br/>Synced 5 W&B file(s), 0 media file(s), 0 artifact file(s) and 0 other file(s)"
            ]
          },
          "metadata": {}
        },
        {
          "output_type": "display_data",
          "data": {
            "text/plain": [
              "<IPython.core.display.HTML object>"
            ],
            "text/html": [
              "Find logs at: <code>./wandb/run-20240403_193200-1nbn52i9/logs</code>"
            ]
          },
          "metadata": {}
        },
        {
          "output_type": "display_data",
          "data": {
            "text/plain": [
              "<IPython.core.display.HTML object>"
            ],
            "text/html": [
              "Successfully finished last run (ID:1nbn52i9). Initializing new run:<br/>"
            ]
          },
          "metadata": {}
        },
        {
          "output_type": "display_data",
          "data": {
            "text/plain": [
              "<IPython.core.display.HTML object>"
            ],
            "text/html": [
              "Tracking run with wandb version 0.16.5"
            ]
          },
          "metadata": {}
        },
        {
          "output_type": "display_data",
          "data": {
            "text/plain": [
              "<IPython.core.display.HTML object>"
            ],
            "text/html": [
              "Run data is saved locally in <code>/content/wandb/run-20240403_193202-1nbn52i9</code>"
            ]
          },
          "metadata": {}
        },
        {
          "output_type": "display_data",
          "data": {
            "text/plain": [
              "<IPython.core.display.HTML object>"
            ],
            "text/html": [
              "Syncing run <strong><a href='https://wandb.ai/cs23m005/Assignment2_partA/runs/1nbn52i9/workspace' target=\"_blank\">neurons256filterSize11activFunsilu</a></strong> to <a href='https://wandb.ai/cs23m005/Assignment2_partA' target=\"_blank\">Weights & Biases</a> (<a href='https://wandb.me/run' target=\"_blank\">docs</a>)<br/>Sweep page: <a href='https://wandb.ai/cs23m005/Assignment2_partA/sweeps/dgtgu0yd' target=\"_blank\">https://wandb.ai/cs23m005/Assignment2_partA/sweeps/dgtgu0yd</a>"
            ]
          },
          "metadata": {}
        },
        {
          "output_type": "display_data",
          "data": {
            "text/plain": [
              "<IPython.core.display.HTML object>"
            ],
            "text/html": [
              " View project at <a href='https://wandb.ai/cs23m005/Assignment2_partA' target=\"_blank\">https://wandb.ai/cs23m005/Assignment2_partA</a>"
            ]
          },
          "metadata": {}
        },
        {
          "output_type": "display_data",
          "data": {
            "text/plain": [
              "<IPython.core.display.HTML object>"
            ],
            "text/html": [
              " View sweep at <a href='https://wandb.ai/cs23m005/Assignment2_partA/sweeps/dgtgu0yd' target=\"_blank\">https://wandb.ai/cs23m005/Assignment2_partA/sweeps/dgtgu0yd</a>"
            ]
          },
          "metadata": {}
        },
        {
          "output_type": "display_data",
          "data": {
            "text/plain": [
              "<IPython.core.display.HTML object>"
            ],
            "text/html": [
              " View run at <a href='https://wandb.ai/cs23m005/Assignment2_partA/runs/1nbn52i9/workspace' target=\"_blank\">https://wandb.ai/cs23m005/Assignment2_partA/runs/1nbn52i9/workspace</a>"
            ]
          },
          "metadata": {}
        },
        {
          "output_type": "stream",
          "name": "stderr",
          "text": [
            "100%|██████████| 250/250 [01:37<00:00,  2.57it/s]\n"
          ]
        }
      ]
    }
  ]
}